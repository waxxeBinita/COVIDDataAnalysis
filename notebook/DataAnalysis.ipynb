{
 "cells": [
  {
   "cell_type": "markdown",
   "id": "6d282e32",
   "metadata": {},
   "source": [
    "# COVID Data Analysis"
   ]
  },
  {
   "cell_type": "markdown",
   "id": "7d0436e7",
   "metadata": {},
   "source": [
    "This project aims to leverage the power of Python to analyze COVID-19 sample dataset from kaggle and gain insights into the patterns, trends, and key factors associated with the virus's spread. We will focus on Python's data analysis libraries, such as Pandas, NumPy, and Matplotlib, to preprocess, analyze, and visualize COVID-19 data. \n",
    "\n",
    "By utilizing two datasets including summary and daily datasets, we are exploring various aspects such as infection rates, mortality rates, active cases to solve the following problems in different continents.\n",
    "\n",
    "1. What is the total cases, deaths and recovered per continent?\n",
    "2. Which 5 countries have the maximum death rate and recovery rate from the total confirmed cases based on their population?\n",
    "3. Which 20 countries have the highest new tests with regards to their population?\n",
    "\n",
    "We are starting with importing required libraries and packages."
   ]
  },
  {
   "cell_type": "code",
   "execution_count": 18,
   "id": "7040676f",
   "metadata": {},
   "outputs": [],
   "source": [
    "import pandas\n",
    "import matplotlib\n",
    "import seaborn\n",
    "import matplotlib.pyplot as plt\n",
    "import matplotlib.cm as cm\n",
    "import seaborn as sns\n",
    "import string\n",
    "import io\n",
    "import chardet"
   ]
  },
  {
   "cell_type": "markdown",
   "id": "cd0b09d4",
   "metadata": {},
   "source": [
    "Dataset information"
   ]
  },
  {
   "cell_type": "code",
   "execution_count": null,
   "id": "9c3a02ae",
   "metadata": {},
   "outputs": [
    {
     "name": "stdout",
     "output_type": "stream",
     "text": [
      "                       country          continent  total_confirmed  \\\n",
      "0                  Afghanistan               Asia           179267   \n",
      "1                      Albania             Europe           275574   \n",
      "2                      Algeria             Africa           265816   \n",
      "3                      Andorra             Europe            42156   \n",
      "4                       Angola             Africa            99194   \n",
      "..                         ...                ...              ...   \n",
      "221  Wallis And Futuna Islands  Australia/Oceania              454   \n",
      "222             Western Sahara             Africa               10   \n",
      "223                      Yemen               Asia            11819   \n",
      "224                     Zambia             Africa           320591   \n",
      "225                   Zimbabwe             Africa           249206   \n",
      "\n",
      "     total_deaths  total_recovered  active_cases  serious_or_critical  \\\n",
      "0          7690.0         162202.0        9375.0               1124.0   \n",
      "1          3497.0         271826.0         251.0                  2.0   \n",
      "2          6875.0         178371.0       80570.0                  6.0   \n",
      "3           153.0          41021.0         982.0                 14.0   \n",
      "4          1900.0          97149.0         145.0                  NaN   \n",
      "..            ...              ...           ...                  ...   \n",
      "221           7.0            438.0           9.0                  NaN   \n",
      "222           1.0              9.0           0.0                  NaN   \n",
      "223        2149.0           9009.0         661.0                 23.0   \n",
      "224        3983.0         315997.0         611.0                  NaN   \n",
      "225        5482.0         242417.0        1307.0                 12.0   \n",
      "\n",
      "     total_cases_per_1m_population  total_deaths_per_1m_population  \\\n",
      "0                             4420                           190.0   \n",
      "1                            95954                          1218.0   \n",
      "2                             5865                           152.0   \n",
      "3                           543983                          1974.0   \n",
      "4                             2853                            55.0   \n",
      "..                             ...                             ...   \n",
      "221                          41755                           644.0   \n",
      "222                             16                             2.0   \n",
      "223                            381                            69.0   \n",
      "224                          16575                           206.0   \n",
      "225                          16324                           359.0   \n",
      "\n",
      "     total_tests  total_tests_per_1m_population  population  \n",
      "0       951337.0                        23455.0    40560636  \n",
      "1      1817530.0                       632857.0     2871945  \n",
      "2       230861.0                         5093.0    45325517  \n",
      "3       249838.0                      3223924.0       77495  \n",
      "4      1499795.0                        43136.0    34769277  \n",
      "..           ...                            ...         ...  \n",
      "221      20508.0                      1886140.0       10873  \n",
      "222          NaN                            NaN      624681  \n",
      "223     265253.0                         8543.0    31049015  \n",
      "224    3452554.0                       178497.0    19342381  \n",
      "225    2287793.0                       149863.0    15265849  \n",
      "\n",
      "[226 rows x 12 columns]\n"
     ]
    }
   ],
   "source": [
    "#loading datasets, df_sumamry for summary dataset and df_daily includes daily updates of covid dataset.\n",
    "df_summary = pd.read_csv((\"/Users/binitashrestha/Documents/coviddata_folder/worldometer_coronavirus_summary_data.csv\"))\n",
    "df_daily = pd.read_csv((\"/Users/binitashrestha/Documents/coviddata_folder/worldometer_coronavirus_daily_data.csv\"))\n",
    "print(df_summary)"
   ]
  },
  {
   "cell_type": "code",
   "execution_count": null,
   "id": "4b7f14f6",
   "metadata": {},
   "outputs": [
    {
     "data": {
      "text/html": [
       "<div>\n",
       "<style scoped>\n",
       "    .dataframe tbody tr th:only-of-type {\n",
       "        vertical-align: middle;\n",
       "    }\n",
       "\n",
       "    .dataframe tbody tr th {\n",
       "        vertical-align: top;\n",
       "    }\n",
       "\n",
       "    .dataframe thead th {\n",
       "        text-align: right;\n",
       "    }\n",
       "</style>\n",
       "<table border=\"1\" class=\"dataframe\">\n",
       "  <thead>\n",
       "    <tr style=\"text-align: right;\">\n",
       "      <th></th>\n",
       "      <th>country</th>\n",
       "      <th>continent</th>\n",
       "      <th>total_confirmed</th>\n",
       "      <th>total_deaths</th>\n",
       "      <th>total_recovered</th>\n",
       "      <th>active_cases</th>\n",
       "      <th>serious_or_critical</th>\n",
       "      <th>total_cases_per_1m_population</th>\n",
       "      <th>total_deaths_per_1m_population</th>\n",
       "      <th>total_tests</th>\n",
       "      <th>total_tests_per_1m_population</th>\n",
       "      <th>population</th>\n",
       "    </tr>\n",
       "  </thead>\n",
       "  <tbody>\n",
       "    <tr>\n",
       "      <th>0</th>\n",
       "      <td>Afghanistan</td>\n",
       "      <td>Asia</td>\n",
       "      <td>179267</td>\n",
       "      <td>7690.0</td>\n",
       "      <td>162202.0</td>\n",
       "      <td>9375.0</td>\n",
       "      <td>1124.0</td>\n",
       "      <td>4420</td>\n",
       "      <td>190.0</td>\n",
       "      <td>951337.0</td>\n",
       "      <td>23455.0</td>\n",
       "      <td>40560636</td>\n",
       "    </tr>\n",
       "    <tr>\n",
       "      <th>1</th>\n",
       "      <td>Albania</td>\n",
       "      <td>Europe</td>\n",
       "      <td>275574</td>\n",
       "      <td>3497.0</td>\n",
       "      <td>271826.0</td>\n",
       "      <td>251.0</td>\n",
       "      <td>2.0</td>\n",
       "      <td>95954</td>\n",
       "      <td>1218.0</td>\n",
       "      <td>1817530.0</td>\n",
       "      <td>632857.0</td>\n",
       "      <td>2871945</td>\n",
       "    </tr>\n",
       "  </tbody>\n",
       "</table>\n",
       "</div>"
      ],
      "text/plain": [
       "       country continent  total_confirmed  total_deaths  total_recovered  \\\n",
       "0  Afghanistan      Asia           179267        7690.0         162202.0   \n",
       "1      Albania    Europe           275574        3497.0         271826.0   \n",
       "\n",
       "   active_cases  serious_or_critical  total_cases_per_1m_population  \\\n",
       "0        9375.0               1124.0                           4420   \n",
       "1         251.0                  2.0                          95954   \n",
       "\n",
       "   total_deaths_per_1m_population  total_tests  total_tests_per_1m_population  \\\n",
       "0                           190.0     951337.0                        23455.0   \n",
       "1                          1218.0    1817530.0                       632857.0   \n",
       "\n",
       "   population  \n",
       "0    40560636  \n",
       "1     2871945  "
      ]
     },
     "execution_count": 201,
     "metadata": {},
     "output_type": "execute_result"
    }
   ],
   "source": [
    "df_summary.head(2)"
   ]
  },
  {
   "cell_type": "code",
   "execution_count": null,
   "id": "dd57dc28",
   "metadata": {},
   "outputs": [
    {
     "data": {
      "text/plain": [
       "(226, 12)"
      ]
     },
     "execution_count": 202,
     "metadata": {},
     "output_type": "execute_result"
    }
   ],
   "source": [
    "df_summary.shape"
   ]
  },
  {
   "cell_type": "code",
   "execution_count": null,
   "id": "11c13756",
   "metadata": {},
   "outputs": [
    {
     "data": {
      "text/html": [
       "<div>\n",
       "<style scoped>\n",
       "    .dataframe tbody tr th:only-of-type {\n",
       "        vertical-align: middle;\n",
       "    }\n",
       "\n",
       "    .dataframe tbody tr th {\n",
       "        vertical-align: top;\n",
       "    }\n",
       "\n",
       "    .dataframe thead th {\n",
       "        text-align: right;\n",
       "    }\n",
       "</style>\n",
       "<table border=\"1\" class=\"dataframe\">\n",
       "  <thead>\n",
       "    <tr style=\"text-align: right;\">\n",
       "      <th></th>\n",
       "      <th>date</th>\n",
       "      <th>country</th>\n",
       "      <th>cumulative_total_cases</th>\n",
       "      <th>daily_new_cases</th>\n",
       "      <th>active_cases</th>\n",
       "      <th>cumulative_total_deaths</th>\n",
       "      <th>daily_new_deaths</th>\n",
       "    </tr>\n",
       "  </thead>\n",
       "  <tbody>\n",
       "    <tr>\n",
       "      <th>0</th>\n",
       "      <td>2020-2-15</td>\n",
       "      <td>Afghanistan</td>\n",
       "      <td>0.0</td>\n",
       "      <td>NaN</td>\n",
       "      <td>0.0</td>\n",
       "      <td>0.0</td>\n",
       "      <td>NaN</td>\n",
       "    </tr>\n",
       "    <tr>\n",
       "      <th>1</th>\n",
       "      <td>2020-2-16</td>\n",
       "      <td>Afghanistan</td>\n",
       "      <td>0.0</td>\n",
       "      <td>NaN</td>\n",
       "      <td>0.0</td>\n",
       "      <td>0.0</td>\n",
       "      <td>NaN</td>\n",
       "    </tr>\n",
       "  </tbody>\n",
       "</table>\n",
       "</div>"
      ],
      "text/plain": [
       "        date      country  cumulative_total_cases  daily_new_cases  \\\n",
       "0  2020-2-15  Afghanistan                     0.0              NaN   \n",
       "1  2020-2-16  Afghanistan                     0.0              NaN   \n",
       "\n",
       "   active_cases  cumulative_total_deaths  daily_new_deaths  \n",
       "0           0.0                      0.0               NaN  \n",
       "1           0.0                      0.0               NaN  "
      ]
     },
     "execution_count": 203,
     "metadata": {},
     "output_type": "execute_result"
    }
   ],
   "source": [
    "df_daily.head(2)"
   ]
  },
  {
   "cell_type": "code",
   "execution_count": null,
   "id": "3ed554f2",
   "metadata": {},
   "outputs": [
    {
     "data": {
      "text/plain": [
       "(184787, 7)"
      ]
     },
     "execution_count": 204,
     "metadata": {},
     "output_type": "execute_result"
    }
   ],
   "source": [
    "df_daily.shape"
   ]
  },
  {
   "cell_type": "code",
   "execution_count": null,
   "id": "fab7cf14",
   "metadata": {},
   "outputs": [
    {
     "data": {
      "text/plain": [
       "Index(['country', 'continent', 'total_confirmed', 'total_deaths',\n",
       "       'total_recovered', 'active_cases', 'serious_or_critical',\n",
       "       'total_cases_per_1m_population', 'total_deaths_per_1m_population',\n",
       "       'total_tests', 'total_tests_per_1m_population', 'population'],\n",
       "      dtype='object')"
      ]
     },
     "execution_count": 205,
     "metadata": {},
     "output_type": "execute_result"
    }
   ],
   "source": [
    "df_summary.columns"
   ]
  },
  {
   "cell_type": "code",
   "execution_count": null,
   "id": "9d77a0ef",
   "metadata": {},
   "outputs": [
    {
     "data": {
      "text/plain": [
       "Index(['date', 'country', 'cumulative_total_cases', 'daily_new_cases',\n",
       "       'active_cases', 'cumulative_total_deaths', 'daily_new_deaths'],\n",
       "      dtype='object')"
      ]
     },
     "execution_count": 206,
     "metadata": {},
     "output_type": "execute_result"
    }
   ],
   "source": [
    "df_daily.columns"
   ]
  },
  {
   "cell_type": "code",
   "execution_count": null,
   "id": "7e3ebf56",
   "metadata": {},
   "outputs": [
    {
     "data": {
      "text/html": [
       "<div>\n",
       "<style scoped>\n",
       "    .dataframe tbody tr th:only-of-type {\n",
       "        vertical-align: middle;\n",
       "    }\n",
       "\n",
       "    .dataframe tbody tr th {\n",
       "        vertical-align: top;\n",
       "    }\n",
       "\n",
       "    .dataframe thead th {\n",
       "        text-align: right;\n",
       "    }\n",
       "</style>\n",
       "<table border=\"1\" class=\"dataframe\">\n",
       "  <thead>\n",
       "    <tr style=\"text-align: right;\">\n",
       "      <th></th>\n",
       "      <th>total_confirmed</th>\n",
       "      <th>total_deaths</th>\n",
       "      <th>total_recovered</th>\n",
       "      <th>active_cases</th>\n",
       "      <th>serious_or_critical</th>\n",
       "      <th>total_cases_per_1m_population</th>\n",
       "      <th>total_deaths_per_1m_population</th>\n",
       "      <th>total_tests</th>\n",
       "      <th>total_tests_per_1m_population</th>\n",
       "      <th>population</th>\n",
       "    </tr>\n",
       "  </thead>\n",
       "  <tbody>\n",
       "    <tr>\n",
       "      <th>count</th>\n",
       "      <td>2.260000e+02</td>\n",
       "      <td>2.180000e+02</td>\n",
       "      <td>2.040000e+02</td>\n",
       "      <td>2.040000e+02</td>\n",
       "      <td>145.000000</td>\n",
       "      <td>226.000000</td>\n",
       "      <td>218.000000</td>\n",
       "      <td>2.120000e+02</td>\n",
       "      <td>2.120000e+02</td>\n",
       "      <td>2.260000e+02</td>\n",
       "    </tr>\n",
       "    <tr>\n",
       "      <th>mean</th>\n",
       "      <td>2.305651e+06</td>\n",
       "      <td>2.884442e+04</td>\n",
       "      <td>2.256851e+06</td>\n",
       "      <td>6.861029e+04</td>\n",
       "      <td>269.482759</td>\n",
       "      <td>148156.809735</td>\n",
       "      <td>1157.550459</td>\n",
       "      <td>2.987445e+07</td>\n",
       "      <td>1.944650e+06</td>\n",
       "      <td>3.495521e+07</td>\n",
       "    </tr>\n",
       "    <tr>\n",
       "      <th>std</th>\n",
       "      <td>7.575510e+06</td>\n",
       "      <td>9.971254e+04</td>\n",
       "      <td>7.613357e+06</td>\n",
       "      <td>2.350430e+05</td>\n",
       "      <td>883.174727</td>\n",
       "      <td>155202.909225</td>\n",
       "      <td>1212.833590</td>\n",
       "      <td>1.079635e+08</td>\n",
       "      <td>3.318400e+06</td>\n",
       "      <td>1.390338e+08</td>\n",
       "    </tr>\n",
       "    <tr>\n",
       "      <th>min</th>\n",
       "      <td>2.000000e+00</td>\n",
       "      <td>1.000000e+00</td>\n",
       "      <td>1.000000e+00</td>\n",
       "      <td>0.000000e+00</td>\n",
       "      <td>1.000000</td>\n",
       "      <td>16.000000</td>\n",
       "      <td>2.000000</td>\n",
       "      <td>5.117000e+03</td>\n",
       "      <td>5.093000e+03</td>\n",
       "      <td>8.050000e+02</td>\n",
       "    </tr>\n",
       "    <tr>\n",
       "      <th>25%</th>\n",
       "      <td>2.412600e+04</td>\n",
       "      <td>2.370000e+02</td>\n",
       "      <td>1.619300e+04</td>\n",
       "      <td>2.397500e+02</td>\n",
       "      <td>5.000000</td>\n",
       "      <td>11748.250000</td>\n",
       "      <td>172.500000</td>\n",
       "      <td>3.472968e+05</td>\n",
       "      <td>1.667260e+05</td>\n",
       "      <td>5.605125e+05</td>\n",
       "    </tr>\n",
       "    <tr>\n",
       "      <th>50%</th>\n",
       "      <td>1.793750e+05</td>\n",
       "      <td>2.251500e+03</td>\n",
       "      <td>1.372740e+05</td>\n",
       "      <td>1.634000e+03</td>\n",
       "      <td>17.000000</td>\n",
       "      <td>98271.500000</td>\n",
       "      <td>768.000000</td>\n",
       "      <td>2.238918e+06</td>\n",
       "      <td>7.753355e+05</td>\n",
       "      <td>5.800570e+06</td>\n",
       "    </tr>\n",
       "    <tr>\n",
       "      <th>75%</th>\n",
       "      <td>1.090902e+06</td>\n",
       "      <td>1.400650e+04</td>\n",
       "      <td>1.006245e+06</td>\n",
       "      <td>1.929675e+04</td>\n",
       "      <td>139.000000</td>\n",
       "      <td>255632.750000</td>\n",
       "      <td>1850.000000</td>\n",
       "      <td>1.233862e+07</td>\n",
       "      <td>2.267408e+06</td>\n",
       "      <td>2.187284e+07</td>\n",
       "    </tr>\n",
       "    <tr>\n",
       "      <th>max</th>\n",
       "      <td>8.420947e+07</td>\n",
       "      <td>1.026646e+06</td>\n",
       "      <td>8.124426e+07</td>\n",
       "      <td>1.938567e+06</td>\n",
       "      <td>8318.000000</td>\n",
       "      <td>704302.000000</td>\n",
       "      <td>6297.000000</td>\n",
       "      <td>1.016883e+09</td>\n",
       "      <td>2.184247e+07</td>\n",
       "      <td>1.439324e+09</td>\n",
       "    </tr>\n",
       "  </tbody>\n",
       "</table>\n",
       "</div>"
      ],
      "text/plain": [
       "       total_confirmed  total_deaths  total_recovered  active_cases  \\\n",
       "count     2.260000e+02  2.180000e+02     2.040000e+02  2.040000e+02   \n",
       "mean      2.305651e+06  2.884442e+04     2.256851e+06  6.861029e+04   \n",
       "std       7.575510e+06  9.971254e+04     7.613357e+06  2.350430e+05   \n",
       "min       2.000000e+00  1.000000e+00     1.000000e+00  0.000000e+00   \n",
       "25%       2.412600e+04  2.370000e+02     1.619300e+04  2.397500e+02   \n",
       "50%       1.793750e+05  2.251500e+03     1.372740e+05  1.634000e+03   \n",
       "75%       1.090902e+06  1.400650e+04     1.006245e+06  1.929675e+04   \n",
       "max       8.420947e+07  1.026646e+06     8.124426e+07  1.938567e+06   \n",
       "\n",
       "       serious_or_critical  total_cases_per_1m_population  \\\n",
       "count           145.000000                     226.000000   \n",
       "mean            269.482759                  148156.809735   \n",
       "std             883.174727                  155202.909225   \n",
       "min               1.000000                      16.000000   \n",
       "25%               5.000000                   11748.250000   \n",
       "50%              17.000000                   98271.500000   \n",
       "75%             139.000000                  255632.750000   \n",
       "max            8318.000000                  704302.000000   \n",
       "\n",
       "       total_deaths_per_1m_population   total_tests  \\\n",
       "count                      218.000000  2.120000e+02   \n",
       "mean                      1157.550459  2.987445e+07   \n",
       "std                       1212.833590  1.079635e+08   \n",
       "min                          2.000000  5.117000e+03   \n",
       "25%                        172.500000  3.472968e+05   \n",
       "50%                        768.000000  2.238918e+06   \n",
       "75%                       1850.000000  1.233862e+07   \n",
       "max                       6297.000000  1.016883e+09   \n",
       "\n",
       "       total_tests_per_1m_population    population  \n",
       "count                   2.120000e+02  2.260000e+02  \n",
       "mean                    1.944650e+06  3.495521e+07  \n",
       "std                     3.318400e+06  1.390338e+08  \n",
       "min                     5.093000e+03  8.050000e+02  \n",
       "25%                     1.667260e+05  5.605125e+05  \n",
       "50%                     7.753355e+05  5.800570e+06  \n",
       "75%                     2.267408e+06  2.187284e+07  \n",
       "max                     2.184247e+07  1.439324e+09  "
      ]
     },
     "execution_count": 207,
     "metadata": {},
     "output_type": "execute_result"
    }
   ],
   "source": [
    " #Summary statistics for numerical features\n",
    "df_summary.describe()"
   ]
  },
  {
   "cell_type": "code",
   "execution_count": null,
   "id": "d58d93cc",
   "metadata": {},
   "outputs": [
    {
     "data": {
      "text/html": [
       "<div>\n",
       "<style scoped>\n",
       "    .dataframe tbody tr th:only-of-type {\n",
       "        vertical-align: middle;\n",
       "    }\n",
       "\n",
       "    .dataframe tbody tr th {\n",
       "        vertical-align: top;\n",
       "    }\n",
       "\n",
       "    .dataframe thead th {\n",
       "        text-align: right;\n",
       "    }\n",
       "</style>\n",
       "<table border=\"1\" class=\"dataframe\">\n",
       "  <thead>\n",
       "    <tr style=\"text-align: right;\">\n",
       "      <th></th>\n",
       "      <th>cumulative_total_cases</th>\n",
       "      <th>daily_new_cases</th>\n",
       "      <th>active_cases</th>\n",
       "      <th>cumulative_total_deaths</th>\n",
       "      <th>daily_new_deaths</th>\n",
       "    </tr>\n",
       "  </thead>\n",
       "  <tbody>\n",
       "    <tr>\n",
       "      <th>count</th>\n",
       "      <td>1.847870e+05</td>\n",
       "      <td>174329.000000</td>\n",
       "      <td>1.667470e+05</td>\n",
       "      <td>1.782270e+05</td>\n",
       "      <td>157850.000000</td>\n",
       "    </tr>\n",
       "    <tr>\n",
       "      <th>mean</th>\n",
       "      <td>7.251089e+05</td>\n",
       "      <td>2987.633285</td>\n",
       "      <td>6.239283e+04</td>\n",
       "      <td>1.388600e+04</td>\n",
       "      <td>39.831834</td>\n",
       "    </tr>\n",
       "    <tr>\n",
       "      <th>std</th>\n",
       "      <td>3.681471e+06</td>\n",
       "      <td>17803.232663</td>\n",
       "      <td>3.955641e+05</td>\n",
       "      <td>6.049521e+04</td>\n",
       "      <td>181.102770</td>\n",
       "    </tr>\n",
       "    <tr>\n",
       "      <th>min</th>\n",
       "      <td>0.000000e+00</td>\n",
       "      <td>-322.000000</td>\n",
       "      <td>-1.432100e+04</td>\n",
       "      <td>0.000000e+00</td>\n",
       "      <td>-39.000000</td>\n",
       "    </tr>\n",
       "    <tr>\n",
       "      <th>25%</th>\n",
       "      <td>1.099000e+03</td>\n",
       "      <td>0.000000</td>\n",
       "      <td>6.000000e+01</td>\n",
       "      <td>2.400000e+01</td>\n",
       "      <td>0.000000</td>\n",
       "    </tr>\n",
       "    <tr>\n",
       "      <th>50%</th>\n",
       "      <td>1.775600e+04</td>\n",
       "      <td>58.000000</td>\n",
       "      <td>1.386000e+03</td>\n",
       "      <td>3.040000e+02</td>\n",
       "      <td>1.000000</td>\n",
       "    </tr>\n",
       "    <tr>\n",
       "      <th>75%</th>\n",
       "      <td>2.238085e+05</td>\n",
       "      <td>728.000000</td>\n",
       "      <td>1.462050e+04</td>\n",
       "      <td>4.111000e+03</td>\n",
       "      <td>12.000000</td>\n",
       "    </tr>\n",
       "    <tr>\n",
       "      <th>max</th>\n",
       "      <td>8.420947e+07</td>\n",
       "      <td>909610.000000</td>\n",
       "      <td>1.793543e+07</td>\n",
       "      <td>1.026646e+06</td>\n",
       "      <td>5093.000000</td>\n",
       "    </tr>\n",
       "  </tbody>\n",
       "</table>\n",
       "</div>"
      ],
      "text/plain": [
       "       cumulative_total_cases  daily_new_cases  active_cases  \\\n",
       "count            1.847870e+05    174329.000000  1.667470e+05   \n",
       "mean             7.251089e+05      2987.633285  6.239283e+04   \n",
       "std              3.681471e+06     17803.232663  3.955641e+05   \n",
       "min              0.000000e+00      -322.000000 -1.432100e+04   \n",
       "25%              1.099000e+03         0.000000  6.000000e+01   \n",
       "50%              1.775600e+04        58.000000  1.386000e+03   \n",
       "75%              2.238085e+05       728.000000  1.462050e+04   \n",
       "max              8.420947e+07    909610.000000  1.793543e+07   \n",
       "\n",
       "       cumulative_total_deaths  daily_new_deaths  \n",
       "count             1.782270e+05     157850.000000  \n",
       "mean              1.388600e+04         39.831834  \n",
       "std               6.049521e+04        181.102770  \n",
       "min               0.000000e+00        -39.000000  \n",
       "25%               2.400000e+01          0.000000  \n",
       "50%               3.040000e+02          1.000000  \n",
       "75%               4.111000e+03         12.000000  \n",
       "max               1.026646e+06       5093.000000  "
      ]
     },
     "execution_count": 208,
     "metadata": {},
     "output_type": "execute_result"
    }
   ],
   "source": [
    "df_daily.describe()"
   ]
  },
  {
   "cell_type": "markdown",
   "id": "ffe8e323",
   "metadata": {},
   "source": [
    "Data Preprocessing\n",
    "We will be initially preparing the raw data for analysis by transforming, cleaning, and organizing it to ensure its quality, consistency, and suitability for analysis. We are checking missing values, type converting datatypes or shortly make it ready for Exploratory data analysis."
   ]
  },
  {
   "cell_type": "code",
   "execution_count": null,
   "id": "f5a559d1",
   "metadata": {},
   "outputs": [
    {
     "data": {
      "text/plain": [
       "country                            0\n",
       "continent                          0\n",
       "total_confirmed                    0\n",
       "total_deaths                       8\n",
       "total_recovered                   22\n",
       "active_cases                      22\n",
       "serious_or_critical               81\n",
       "total_cases_per_1m_population      0\n",
       "total_deaths_per_1m_population     8\n",
       "total_tests                       14\n",
       "total_tests_per_1m_population     14\n",
       "population                         0\n",
       "dtype: int64"
      ]
     },
     "execution_count": 209,
     "metadata": {},
     "output_type": "execute_result"
    }
   ],
   "source": [
    "#checking for null values\n",
    "df_summary.isna().sum()"
   ]
  },
  {
   "cell_type": "code",
   "execution_count": null,
   "id": "2dcb6ce2",
   "metadata": {},
   "outputs": [
    {
     "data": {
      "text/plain": [
       "date                           0\n",
       "country                        0\n",
       "cumulative_total_cases         0\n",
       "daily_new_cases            10458\n",
       "active_cases               18040\n",
       "cumulative_total_deaths     6560\n",
       "daily_new_deaths           26937\n",
       "dtype: int64"
      ]
     },
     "execution_count": 210,
     "metadata": {},
     "output_type": "execute_result"
    }
   ],
   "source": [
    "df_daily.isna().sum()"
   ]
  },
  {
   "cell_type": "code",
   "execution_count": null,
   "id": "8d35bcea",
   "metadata": {},
   "outputs": [],
   "source": [
    "df_summary.fillna(value = 0, inplace = True)  #Filling the null values with 0\n",
    "df_daily.fillna(value = 0, inplace = True)  #Filling the null values with 0"
   ]
  },
  {
   "cell_type": "code",
   "execution_count": null,
   "id": "836d21af",
   "metadata": {},
   "outputs": [
    {
     "name": "stdout",
     "output_type": "stream",
     "text": [
      "<class 'pandas.core.frame.DataFrame'>\n",
      "RangeIndex: 226 entries, 0 to 225\n",
      "Data columns (total 12 columns):\n",
      " #   Column                          Non-Null Count  Dtype  \n",
      "---  ------                          --------------  -----  \n",
      " 0   country                         226 non-null    object \n",
      " 1   continent                       226 non-null    object \n",
      " 2   total_confirmed                 226 non-null    int64  \n",
      " 3   total_deaths                    226 non-null    float64\n",
      " 4   total_recovered                 226 non-null    float64\n",
      " 5   active_cases                    226 non-null    float64\n",
      " 6   serious_or_critical             226 non-null    float64\n",
      " 7   total_cases_per_1m_population   226 non-null    int64  \n",
      " 8   total_deaths_per_1m_population  226 non-null    float64\n",
      " 9   total_tests                     226 non-null    float64\n",
      " 10  total_tests_per_1m_population   226 non-null    float64\n",
      " 11  population                      226 non-null    int64  \n",
      "dtypes: float64(7), int64(3), object(2)\n",
      "memory usage: 21.3+ KB\n"
     ]
    }
   ],
   "source": [
    "#checking for datatypes and converting them to integers.\n",
    "df_summary.info()"
   ]
  },
  {
   "cell_type": "code",
   "execution_count": null,
   "id": "78ccbdf5",
   "metadata": {},
   "outputs": [
    {
     "name": "stdout",
     "output_type": "stream",
     "text": [
      "<class 'pandas.core.frame.DataFrame'>\n",
      "RangeIndex: 184787 entries, 0 to 184786\n",
      "Data columns (total 7 columns):\n",
      " #   Column                   Non-Null Count   Dtype  \n",
      "---  ------                   --------------   -----  \n",
      " 0   date                     184787 non-null  object \n",
      " 1   country                  184787 non-null  object \n",
      " 2   cumulative_total_cases   184787 non-null  float64\n",
      " 3   daily_new_cases          184787 non-null  float64\n",
      " 4   active_cases             184787 non-null  float64\n",
      " 5   cumulative_total_deaths  184787 non-null  float64\n",
      " 6   daily_new_deaths         184787 non-null  float64\n",
      "dtypes: float64(5), object(2)\n",
      "memory usage: 9.9+ MB\n"
     ]
    }
   ],
   "source": [
    "df_daily.info()"
   ]
  },
  {
   "cell_type": "code",
   "execution_count": null,
   "id": "1a2e3bb9",
   "metadata": {},
   "outputs": [],
   "source": [
    "df_summary[\"total_deaths\"] = df_summary[\"total_deaths\"].astype(\"int64\")\n",
    "df_summary[\"total_recovered\"] = df_summary[\"total_recovered\"].astype(\"int64\")\n",
    "df_summary[\"active_cases\"] = df_summary[\"active_cases\"].astype(\"int64\")\n",
    "df_summary[\"serious_or_critical\"] = df_summary[\"serious_or_critical\"].astype(\"int64\")\n",
    "df_summary[\"total_deaths_per_1m_population\"] = df_summary[\"total_deaths_per_1m_population\"].astype(\"int64\")\n",
    "df_summary[\"total_tests\"] = df_summary[\"total_tests\"].astype(\"int64\")\n",
    "df_summary[\"total_tests_per_1m_population\"] = df_summary[\"total_tests_per_1m_population\"].astype(\"int64\")\n",
    "df_daily[\"cumulative_total_cases\"] = df_daily[\"cumulative_total_cases\"].astype(\"int64\")\n",
    "df_daily[\"daily_new_cases\"] = df_daily[\"daily_new_cases\"].astype(\"int64\")\n",
    "df_daily[\"active_cases\"] = df_daily[\"active_cases\"].astype(\"int64\")\n",
    "df_daily[\"cumulative_total_deaths\"] = df_daily[\"cumulative_total_deaths\"].astype(\"int64\")\n",
    "df_daily[\"daily_new_deaths\"] = df_daily[\"daily_new_deaths\"].astype(\"int64\")"
   ]
  },
  {
   "cell_type": "code",
   "execution_count": null,
   "id": "83959617",
   "metadata": {},
   "outputs": [
    {
     "name": "stdout",
     "output_type": "stream",
     "text": [
      "<class 'pandas.core.frame.DataFrame'>\n",
      "RangeIndex: 226 entries, 0 to 225\n",
      "Data columns (total 12 columns):\n",
      " #   Column                          Non-Null Count  Dtype \n",
      "---  ------                          --------------  ----- \n",
      " 0   country                         226 non-null    object\n",
      " 1   continent                       226 non-null    object\n",
      " 2   total_confirmed                 226 non-null    int64 \n",
      " 3   total_deaths                    226 non-null    int64 \n",
      " 4   total_recovered                 226 non-null    int64 \n",
      " 5   active_cases                    226 non-null    int64 \n",
      " 6   serious_or_critical             226 non-null    int64 \n",
      " 7   total_cases_per_1m_population   226 non-null    int64 \n",
      " 8   total_deaths_per_1m_population  226 non-null    int64 \n",
      " 9   total_tests                     226 non-null    int64 \n",
      " 10  total_tests_per_1m_population   226 non-null    int64 \n",
      " 11  population                      226 non-null    int64 \n",
      "dtypes: int64(10), object(2)\n",
      "memory usage: 21.3+ KB\n",
      "<class 'pandas.core.frame.DataFrame'>\n",
      "RangeIndex: 184787 entries, 0 to 184786\n",
      "Data columns (total 7 columns):\n",
      " #   Column                   Non-Null Count   Dtype \n",
      "---  ------                   --------------   ----- \n",
      " 0   date                     184787 non-null  object\n",
      " 1   country                  184787 non-null  object\n",
      " 2   cumulative_total_cases   184787 non-null  int64 \n",
      " 3   daily_new_cases          184787 non-null  int64 \n",
      " 4   active_cases             184787 non-null  int64 \n",
      " 5   cumulative_total_deaths  184787 non-null  int64 \n",
      " 6   daily_new_deaths         184787 non-null  int64 \n",
      "dtypes: int64(5), object(2)\n",
      "memory usage: 9.9+ MB\n"
     ]
    }
   ],
   "source": [
    "df_summary.info()\n",
    "df_daily.info()"
   ]
  },
  {
   "cell_type": "code",
   "execution_count": null,
   "id": "af44663b",
   "metadata": {},
   "outputs": [
    {
     "data": {
      "text/plain": [
       "date                       0\n",
       "country                    0\n",
       "cumulative_total_cases     0\n",
       "daily_new_cases            0\n",
       "active_cases               0\n",
       "cumulative_total_deaths    0\n",
       "daily_new_deaths           0\n",
       "dtype: int64"
      ]
     },
     "execution_count": 216,
     "metadata": {},
     "output_type": "execute_result"
    }
   ],
   "source": [
    "df_summary.isna().sum()\n",
    "df_daily.isna().sum()"
   ]
  },
  {
   "cell_type": "markdown",
   "id": "76dfdd0c",
   "metadata": {},
   "source": [
    "Exploratory Data Analysis\n",
    "\n",
    "We will be examining and visualizing data to uncover patterns, relationships, and insights that can guide further analysis and decision-making.We are therefore understanding the dataset deeper,identifying their correlations, which can guide us for conducting further analysis to find answers of the provided questions."
   ]
  },
  {
   "cell_type": "code",
   "execution_count": null,
   "id": "dc8e0fb7",
   "metadata": {},
   "outputs": [
    {
     "data": {
      "text/plain": [
       "array(['Asia', 'Europe', 'Africa', 'North America', 'South America',\n",
       "       'Australia/Oceania'], dtype=object)"
      ]
     },
     "execution_count": 217,
     "metadata": {},
     "output_type": "execute_result"
    }
   ],
   "source": [
    "df_summary['continent'].unique()"
   ]
  },
  {
   "cell_type": "code",
   "execution_count": null,
   "id": "c50fdf12",
   "metadata": {},
   "outputs": [
    {
     "data": {
      "text/html": [
       "<div>\n",
       "<style scoped>\n",
       "    .dataframe tbody tr th:only-of-type {\n",
       "        vertical-align: middle;\n",
       "    }\n",
       "\n",
       "    .dataframe tbody tr th {\n",
       "        vertical-align: top;\n",
       "    }\n",
       "\n",
       "    .dataframe thead th {\n",
       "        text-align: right;\n",
       "    }\n",
       "</style>\n",
       "<table border=\"1\" class=\"dataframe\">\n",
       "  <thead>\n",
       "    <tr style=\"text-align: right;\">\n",
       "      <th></th>\n",
       "      <th>country</th>\n",
       "      <th>continent</th>\n",
       "      <th>total_confirmed</th>\n",
       "      <th>total_deaths</th>\n",
       "      <th>total_recovered</th>\n",
       "      <th>active_cases</th>\n",
       "      <th>serious_or_critical</th>\n",
       "      <th>total_cases_per_1m_population</th>\n",
       "      <th>total_deaths_per_1m_population</th>\n",
       "      <th>total_tests</th>\n",
       "      <th>total_tests_per_1m_population</th>\n",
       "      <th>population</th>\n",
       "    </tr>\n",
       "  </thead>\n",
       "  <tbody>\n",
       "    <tr>\n",
       "      <th>0</th>\n",
       "      <td>Afghanistan</td>\n",
       "      <td>Asia</td>\n",
       "      <td>179267</td>\n",
       "      <td>7690</td>\n",
       "      <td>162202</td>\n",
       "      <td>9375</td>\n",
       "      <td>1124</td>\n",
       "      <td>4420</td>\n",
       "      <td>190</td>\n",
       "      <td>951337</td>\n",
       "      <td>23455</td>\n",
       "      <td>40560636</td>\n",
       "    </tr>\n",
       "  </tbody>\n",
       "</table>\n",
       "</div>"
      ],
      "text/plain": [
       "       country continent  total_confirmed  total_deaths  total_recovered  \\\n",
       "0  Afghanistan      Asia           179267          7690           162202   \n",
       "\n",
       "   active_cases  serious_or_critical  total_cases_per_1m_population  \\\n",
       "0          9375                 1124                           4420   \n",
       "\n",
       "   total_deaths_per_1m_population  total_tests  total_tests_per_1m_population  \\\n",
       "0                             190       951337                          23455   \n",
       "\n",
       "   population  \n",
       "0    40560636  "
      ]
     },
     "execution_count": 218,
     "metadata": {},
     "output_type": "execute_result"
    }
   ],
   "source": [
    "df_summary.head(1)"
   ]
  },
  {
   "cell_type": "code",
   "execution_count": null,
   "id": "aa4334c9",
   "metadata": {},
   "outputs": [
    {
     "data": {
      "text/html": [
       "<div>\n",
       "<style scoped>\n",
       "    .dataframe tbody tr th:only-of-type {\n",
       "        vertical-align: middle;\n",
       "    }\n",
       "\n",
       "    .dataframe tbody tr th {\n",
       "        vertical-align: top;\n",
       "    }\n",
       "\n",
       "    .dataframe thead th {\n",
       "        text-align: right;\n",
       "    }\n",
       "</style>\n",
       "<table border=\"1\" class=\"dataframe\">\n",
       "  <thead>\n",
       "    <tr style=\"text-align: right;\">\n",
       "      <th></th>\n",
       "      <th>date</th>\n",
       "      <th>country</th>\n",
       "      <th>cumulative_total_cases</th>\n",
       "      <th>daily_new_cases</th>\n",
       "      <th>active_cases</th>\n",
       "      <th>cumulative_total_deaths</th>\n",
       "      <th>daily_new_deaths</th>\n",
       "    </tr>\n",
       "  </thead>\n",
       "  <tbody>\n",
       "    <tr>\n",
       "      <th>0</th>\n",
       "      <td>2020-2-15</td>\n",
       "      <td>Afghanistan</td>\n",
       "      <td>0</td>\n",
       "      <td>0</td>\n",
       "      <td>0</td>\n",
       "      <td>0</td>\n",
       "      <td>0</td>\n",
       "    </tr>\n",
       "  </tbody>\n",
       "</table>\n",
       "</div>"
      ],
      "text/plain": [
       "        date      country  cumulative_total_cases  daily_new_cases  \\\n",
       "0  2020-2-15  Afghanistan                       0                0   \n",
       "\n",
       "   active_cases  cumulative_total_deaths  daily_new_deaths  \n",
       "0             0                        0                 0  "
      ]
     },
     "execution_count": 219,
     "metadata": {},
     "output_type": "execute_result"
    }
   ],
   "source": [
    "df_daily.head(1)"
   ]
  },
  {
   "cell_type": "code",
   "execution_count": null,
   "id": "d07aee0c",
   "metadata": {},
   "outputs": [
    {
     "data": {
      "image/png": "[encoded data removed]",
      "text/plain": [
       "<Figure size 432x288 with 1 Axes>"
      ]
     },
     "metadata": {
      "needs_background": "light"
     },
     "output_type": "display_data"
    },
    {
     "data": {
      "image/png": "[encoded data removed]",
      "text/plain": [
       "<Figure size 432x288 with 1 Axes>"
      ]
     },
     "metadata": {
      "needs_background": "light"
     },
     "output_type": "display_data"
    },
    {
     "data": {
      "image/png": "[encoded data removed]",
      "text/plain": [
       "<Figure size 432x288 with 1 Axes>"
      ]
     },
     "metadata": {
      "needs_background": "light"
     },
     "output_type": "display_data"
    },
    {
     "data": {
      "image/png": "[encoded data removed]",
      "text/plain": [
       "<Figure size 432x288 with 1 Axes>"
      ]
     },
     "metadata": {
      "needs_background": "light"
     },
     "output_type": "display_data"
    },
    {
     "data": {
      "image/png": "[encoded data removed]",
      "text/plain": [
       "<Figure size 432x288 with 1 Axes>"
      ]
     },
     "metadata": {
      "needs_background": "light"
     },
     "output_type": "display_data"
    },
    {
     "data": {
      "image/png": "[encoded data removed]",
      "text/plain": [
       "<Figure size 432x288 with 1 Axes>"
      ]
     },
     "metadata": {
      "needs_background": "light"
     },
     "output_type": "display_data"
    },
    {
     "data": {
      "image/png": "[encoded data removed]",
      "text/plain": [
       "<Figure size 432x288 with 1 Axes>"
      ]
     },
     "metadata": {
      "needs_background": "light"
     },
     "output_type": "display_data"
    },
    {
     "data": {
      "image/png": "[encoded data removed]",
      "text/plain": [
       "<Figure size 432x288 with 1 Axes>"
      ]
     },
     "metadata": {
      "needs_background": "light"
     },
     "output_type": "display_data"
    },
    {
     "data": {
      "image/png": "[encoded data removed]",
      "text/plain": [
       "<Figure size 432x288 with 1 Axes>"
      ]
     },
     "metadata": {
      "needs_background": "light"
     },
     "output_type": "display_data"
    },
    {
     "data": {
      "image/png": "[encoded data removed]",
      "text/plain": [
       "<Figure size 432x288 with 1 Axes>"
      ]
     },
     "metadata": {
      "needs_background": "light"
     },
     "output_type": "display_data"
    }
   ],
   "source": [
    "#grouping few columns together to see the patterns\n",
    "columns=['total_cases_per_1m_population','active_cases', 'total_deaths_per_1m_population','active_cases','total_deaths','total_recovered','serious_or_critical', 'total_tests', 'total_tests_per_1m_population','population']\n",
    "for i in columns:\n",
    "    plt.figure()\n",
    "    sns.kdeplot(df[i], shade= True, hue= df['continent'])"
   ]
  },
  {
   "cell_type": "markdown",
   "id": "89c054c1",
   "metadata": {},
   "source": [
    "Clearly, the patterns highlights Africa as leading in all catagories other than comparison of population with continents."
   ]
  },
  {
   "cell_type": "markdown",
   "id": "2745be81",
   "metadata": {},
   "source": [
    "# 1. What is the total cases, deaths and recovered per continent?"
   ]
  },
  {
   "cell_type": "markdown",
   "id": "0f051ad2",
   "metadata": {},
   "source": [
    "Grouping of columns based on continent and sum of total_confirmed cases of all the countries in that continent are sorted in descending order, and is visualized using pie chart.\n",
    "Grouping of columns based on continent and sum of total_death of all the countries in that continent are sorted in descending order. \n",
    "Similarly for the total recovered, we have taken total recovered per countries with total confirmed.\n"
   ]
  },
  {
   "cell_type": "code",
   "execution_count": null,
   "id": "2c8e0188",
   "metadata": {},
   "outputs": [
    {
     "data": {
      "text/plain": [
       "continent\n",
       "Europe               194330079\n",
       "Asia                 149999659\n",
       "North America         99625662\n",
       "South America         57136485\n",
       "Africa                12042400\n",
       "Australia/Oceania      7942867\n",
       "Name: total_confirmed, dtype: int64"
      ]
     },
     "execution_count": 221,
     "metadata": {},
     "output_type": "execute_result"
    }
   ],
   "source": [
    "#1.1 Grouping couuntries as per continent and finding out total confirmed initially.\n",
    "Total_CasesbyContinent = df_summary.groupby(\"continent\")[\"total_confirmed\"].sum().sort_values(ascending = False)\n",
    "Total_CasesbyContinent"
   ]
  },
  {
   "cell_type": "markdown",
   "id": "42162821",
   "metadata": {},
   "source": [
    "We can see Europe has maximum total confirmed cases compared to other continents. "
   ]
  },
  {
   "cell_type": "code",
   "execution_count": null,
   "id": "6b7409e2",
   "metadata": {},
   "outputs": [],
   "source": [
    "# Defining the colors for the graphs\n",
    "colors = ['#ffaf7a', '#0892d0', '#F88379', '#D8BFD8', '#9FE2BF', '#722F37']"
   ]
  },
  {
   "cell_type": "code",
   "execution_count": null,
   "id": "eefc6828",
   "metadata": {},
   "outputs": [
    {
     "data": {
      "image/png": "[encoded data removed]",
      "text/plain": [
       "<Figure size 576x432 with 1 Axes>"
      ]
     },
     "metadata": {},
     "output_type": "display_data"
    }
   ],
   "source": [
    "# visualizing total cases by continent using pie and colors from above palette.\n",
    "plt.figure(figsize=(8, 6))\n",
    "# Create a pie chart with custom colors and width\n",
    "plt.pie(Total_CasesbyContinent, labels=Total_CasesbyContinent.index, autopct='%1.1f%%', startangle=90, colors=colors, wedgeprops={'width': 0.4})\n",
    "# Set the title\n",
    "plt.title('Total Confirmed Cases by Continent')\n",
    "# Display the pie chart\n",
    "plt.show()\n"
   ]
  },
  {
   "cell_type": "code",
   "execution_count": null,
   "id": "d580ef2e",
   "metadata": {},
   "outputs": [
    {
     "data": {
      "text/html": [
       "<div>\n",
       "<style scoped>\n",
       "    .dataframe tbody tr th:only-of-type {\n",
       "        vertical-align: middle;\n",
       "    }\n",
       "\n",
       "    .dataframe tbody tr th {\n",
       "        vertical-align: top;\n",
       "    }\n",
       "\n",
       "    .dataframe thead th {\n",
       "        text-align: right;\n",
       "    }\n",
       "</style>\n",
       "<table border=\"1\" class=\"dataframe\">\n",
       "  <thead>\n",
       "    <tr style=\"text-align: right;\">\n",
       "      <th></th>\n",
       "      <th>total_confirmed</th>\n",
       "      <th>total_deaths</th>\n",
       "    </tr>\n",
       "    <tr>\n",
       "      <th>continent</th>\n",
       "      <th></th>\n",
       "      <th></th>\n",
       "    </tr>\n",
       "  </thead>\n",
       "  <tbody>\n",
       "    <tr>\n",
       "      <th>Europe</th>\n",
       "      <td>194330079</td>\n",
       "      <td>1830655</td>\n",
       "    </tr>\n",
       "    <tr>\n",
       "      <th>Asia</th>\n",
       "      <td>149999659</td>\n",
       "      <td>1427939</td>\n",
       "    </tr>\n",
       "    <tr>\n",
       "      <th>North America</th>\n",
       "      <td>99625662</td>\n",
       "      <td>1467234</td>\n",
       "    </tr>\n",
       "    <tr>\n",
       "      <th>South America</th>\n",
       "      <td>57136485</td>\n",
       "      <td>1296523</td>\n",
       "    </tr>\n",
       "    <tr>\n",
       "      <th>Africa</th>\n",
       "      <td>12042400</td>\n",
       "      <td>254319</td>\n",
       "    </tr>\n",
       "  </tbody>\n",
       "</table>\n",
       "</div>"
      ],
      "text/plain": [
       "               total_confirmed  total_deaths\n",
       "continent                                   \n",
       "Europe               194330079       1830655\n",
       "Asia                 149999659       1427939\n",
       "North America         99625662       1467234\n",
       "South America         57136485       1296523\n",
       "Africa                12042400        254319"
      ]
     },
     "execution_count": 224,
     "metadata": {},
     "output_type": "execute_result"
    }
   ],
   "source": [
    "#1.2 Total confirmed deaths\n",
    "#Grouping of columns based on continent with total deaths and total confirmed\n",
    "Total_deathsbyContinent = df_summary.groupby(\"continent\")[[\"total_confirmed\",\"total_deaths\"]].sum().sort_values([\"total_confirmed\",\"total_deaths\"],ascending= [False, False]).head()\n",
    "Total_deathsbyContinent"
   ]
  },
  {
   "cell_type": "code",
   "execution_count": null,
   "id": "a291aa3f",
   "metadata": {},
   "outputs": [],
   "source": [
    "# #Create a wider figure\n",
    "# plt.figure(figsize=(8, 6))\n",
    "# # Create a pie chart with custom colors and width\n",
    "# plt.pie(Total_deathbyContinent, labels= Total_deathbyContinent.index, autopct='%1.1f%%', startangle=90, colors=colors, wedgeprops={'width': 0.4})\n",
    "# # Set the title\n",
    "# plt.title('Total Deaths by Continent')\n",
    "# # Display the pie chart\n",
    "# plt.show()"
   ]
  },
  {
   "cell_type": "code",
   "execution_count": null,
   "id": "4377a7c6",
   "metadata": {},
   "outputs": [
    {
     "data": {
      "text/html": [
       "<div>\n",
       "<style scoped>\n",
       "    .dataframe tbody tr th:only-of-type {\n",
       "        vertical-align: middle;\n",
       "    }\n",
       "\n",
       "    .dataframe tbody tr th {\n",
       "        vertical-align: top;\n",
       "    }\n",
       "\n",
       "    .dataframe thead th {\n",
       "        text-align: right;\n",
       "    }\n",
       "</style>\n",
       "<table border=\"1\" class=\"dataframe\">\n",
       "  <thead>\n",
       "    <tr style=\"text-align: right;\">\n",
       "      <th></th>\n",
       "      <th>total_confirmed</th>\n",
       "      <th>total_recovered</th>\n",
       "    </tr>\n",
       "    <tr>\n",
       "      <th>continent</th>\n",
       "      <th></th>\n",
       "      <th></th>\n",
       "    </tr>\n",
       "  </thead>\n",
       "  <tbody>\n",
       "    <tr>\n",
       "      <th>Europe</th>\n",
       "      <td>194330079</td>\n",
       "      <td>170861871</td>\n",
       "    </tr>\n",
       "    <tr>\n",
       "      <th>Asia</th>\n",
       "      <td>149999659</td>\n",
       "      <td>126145273</td>\n",
       "    </tr>\n",
       "    <tr>\n",
       "      <th>North America</th>\n",
       "      <td>99625662</td>\n",
       "      <td>94818163</td>\n",
       "    </tr>\n",
       "    <tr>\n",
       "      <th>South America</th>\n",
       "      <td>57136485</td>\n",
       "      <td>51031313</td>\n",
       "    </tr>\n",
       "    <tr>\n",
       "      <th>Africa</th>\n",
       "      <td>12042400</td>\n",
       "      <td>10137200</td>\n",
       "    </tr>\n",
       "  </tbody>\n",
       "</table>\n",
       "</div>"
      ],
      "text/plain": [
       "               total_confirmed  total_recovered\n",
       "continent                                      \n",
       "Europe               194330079        170861871\n",
       "Asia                 149999659        126145273\n",
       "North America         99625662         94818163\n",
       "South America         57136485         51031313\n",
       "Africa                12042400         10137200"
      ]
     },
     "execution_count": 226,
     "metadata": {},
     "output_type": "execute_result"
    }
   ],
   "source": [
    "#1.3 Total recovered deaths\n",
    "#Grouping of columns based on continent with total recovered and total confirmed\n",
    "\n",
    "Total_recoveredbyContinent = df_summary.groupby(\"continent\")[[\"total_confirmed\",\"total_recovered\"]].sum().sort_values([\"total_confirmed\",\"total_recovered\"],ascending= [False, False]).head()\n",
    "Total_recoveredbyContinent \n"
   ]
  },
  {
   "cell_type": "markdown",
   "id": "3a8f45b9",
   "metadata": {},
   "source": [
    "# 2. Which 5 countries have the maximum death rate and recovery rate from the total confirmed cases based on their population?"
   ]
  },
  {
   "cell_type": "markdown",
   "id": "d1855e62",
   "metadata": {},
   "source": [
    "To find out the countries with the maximum death rate and recovery rate, we have initially created a new dataframe name as \"Country_values_confirmed_death\" and Country_values_confirmed_recovered. \n",
    "\n",
    "The \"death_percentage\" and \"recovered_percentage\" has added new column to the dataframe by performing calculations on existing columns (\"total_deaths/total_recovered\" and \"total_confirmed\") and converted to the percentage value for each continent.\n",
    "\n"
   ]
  },
  {
   "cell_type": "code",
   "execution_count": null,
   "id": "dcc6703a",
   "metadata": {},
   "outputs": [
    {
     "data": {
      "text/html": [
       "<div>\n",
       "<style scoped>\n",
       "    .dataframe tbody tr th:only-of-type {\n",
       "        vertical-align: middle;\n",
       "    }\n",
       "\n",
       "    .dataframe tbody tr th {\n",
       "        vertical-align: top;\n",
       "    }\n",
       "\n",
       "    .dataframe thead th {\n",
       "        text-align: right;\n",
       "    }\n",
       "</style>\n",
       "<table border=\"1\" class=\"dataframe\">\n",
       "  <thead>\n",
       "    <tr style=\"text-align: right;\">\n",
       "      <th></th>\n",
       "      <th>total_confirmed</th>\n",
       "      <th>total_deaths</th>\n",
       "    </tr>\n",
       "    <tr>\n",
       "      <th>country</th>\n",
       "      <th></th>\n",
       "      <th></th>\n",
       "    </tr>\n",
       "  </thead>\n",
       "  <tbody>\n",
       "    <tr>\n",
       "      <th>USA</th>\n",
       "      <td>84209473</td>\n",
       "      <td>1026646</td>\n",
       "    </tr>\n",
       "    <tr>\n",
       "      <th>India</th>\n",
       "      <td>43121599</td>\n",
       "      <td>524214</td>\n",
       "    </tr>\n",
       "    <tr>\n",
       "      <th>Brazil</th>\n",
       "      <td>30682094</td>\n",
       "      <td>664920</td>\n",
       "    </tr>\n",
       "    <tr>\n",
       "      <th>France</th>\n",
       "      <td>29160802</td>\n",
       "      <td>147257</td>\n",
       "    </tr>\n",
       "    <tr>\n",
       "      <th>Germany</th>\n",
       "      <td>25780226</td>\n",
       "      <td>137919</td>\n",
       "    </tr>\n",
       "  </tbody>\n",
       "</table>\n",
       "</div>"
      ],
      "text/plain": [
       "         total_confirmed  total_deaths\n",
       "country                               \n",
       "USA             84209473       1026646\n",
       "India           43121599        524214\n",
       "Brazil          30682094        664920\n",
       "France          29160802        147257\n",
       "Germany         25780226        137919"
      ]
     },
     "execution_count": 227,
     "metadata": {},
     "output_type": "execute_result"
    }
   ],
   "source": [
    "Country_values_confirmed_death = df_summary.groupby(\"country\")[[\"total_confirmed\",\"total_deaths\"]].sum().sort_values([\"total_confirmed\",\"total_deaths\"],ascending= [False, False]).head()\n",
    "Country_values_confirmed_death"
   ]
  },
  {
   "cell_type": "code",
   "execution_count": null,
   "id": "9bda1417",
   "metadata": {},
   "outputs": [
    {
     "data": {
      "text/html": [
       "<div>\n",
       "<style scoped>\n",
       "    .dataframe tbody tr th:only-of-type {\n",
       "        vertical-align: middle;\n",
       "    }\n",
       "\n",
       "    .dataframe tbody tr th {\n",
       "        vertical-align: top;\n",
       "    }\n",
       "\n",
       "    .dataframe thead th {\n",
       "        text-align: right;\n",
       "    }\n",
       "</style>\n",
       "<table border=\"1\" class=\"dataframe\">\n",
       "  <thead>\n",
       "    <tr style=\"text-align: right;\">\n",
       "      <th></th>\n",
       "      <th>total_confirmed</th>\n",
       "      <th>total_deaths</th>\n",
       "      <th>death_percentage</th>\n",
       "    </tr>\n",
       "    <tr>\n",
       "      <th>country</th>\n",
       "      <th></th>\n",
       "      <th></th>\n",
       "      <th></th>\n",
       "    </tr>\n",
       "  </thead>\n",
       "  <tbody>\n",
       "    <tr>\n",
       "      <th>USA</th>\n",
       "      <td>84209473</td>\n",
       "      <td>1026646</td>\n",
       "      <td>1.219157</td>\n",
       "    </tr>\n",
       "    <tr>\n",
       "      <th>India</th>\n",
       "      <td>43121599</td>\n",
       "      <td>524214</td>\n",
       "      <td>1.215665</td>\n",
       "    </tr>\n",
       "    <tr>\n",
       "      <th>Brazil</th>\n",
       "      <td>30682094</td>\n",
       "      <td>664920</td>\n",
       "      <td>2.167127</td>\n",
       "    </tr>\n",
       "    <tr>\n",
       "      <th>France</th>\n",
       "      <td>29160802</td>\n",
       "      <td>147257</td>\n",
       "      <td>0.504983</td>\n",
       "    </tr>\n",
       "    <tr>\n",
       "      <th>Germany</th>\n",
       "      <td>25780226</td>\n",
       "      <td>137919</td>\n",
       "      <td>0.534980</td>\n",
       "    </tr>\n",
       "  </tbody>\n",
       "</table>\n",
       "</div>"
      ],
      "text/plain": [
       "         total_confirmed  total_deaths  death_percentage\n",
       "country                                                 \n",
       "USA             84209473       1026646          1.219157\n",
       "India           43121599        524214          1.215665\n",
       "Brazil          30682094        664920          2.167127\n",
       "France          29160802        147257          0.504983\n",
       "Germany         25780226        137919          0.534980"
      ]
     },
     "execution_count": 228,
     "metadata": {},
     "output_type": "execute_result"
    }
   ],
   "source": [
    "# calculating country based death percentage and Displaying the resulting DataFrame\n",
    "Country_values_confirmed_death[\"death_percentage\"] = (Country_values_confirmed_death[\"total_deaths\"] / Country_values_confirmed_death[\"total_confirmed\"]) * 100\n",
    "Country_values_confirmed_death\n"
   ]
  },
  {
   "cell_type": "code",
   "execution_count": null,
   "id": "adcc1a5c",
   "metadata": {},
   "outputs": [
    {
     "data": {
      "text/html": [
       "<div>\n",
       "<style scoped>\n",
       "    .dataframe tbody tr th:only-of-type {\n",
       "        vertical-align: middle;\n",
       "    }\n",
       "\n",
       "    .dataframe tbody tr th {\n",
       "        vertical-align: top;\n",
       "    }\n",
       "\n",
       "    .dataframe thead th {\n",
       "        text-align: right;\n",
       "    }\n",
       "</style>\n",
       "<table border=\"1\" class=\"dataframe\">\n",
       "  <thead>\n",
       "    <tr style=\"text-align: right;\">\n",
       "      <th></th>\n",
       "      <th>total_confirmed</th>\n",
       "      <th>total_recovered</th>\n",
       "      <th>recovered_percentage</th>\n",
       "    </tr>\n",
       "    <tr>\n",
       "      <th>continent</th>\n",
       "      <th></th>\n",
       "      <th></th>\n",
       "      <th></th>\n",
       "    </tr>\n",
       "  </thead>\n",
       "  <tbody>\n",
       "    <tr>\n",
       "      <th>Europe</th>\n",
       "      <td>194330079</td>\n",
       "      <td>170861871</td>\n",
       "      <td>87.923533</td>\n",
       "    </tr>\n",
       "    <tr>\n",
       "      <th>Asia</th>\n",
       "      <td>149999659</td>\n",
       "      <td>126145273</td>\n",
       "      <td>84.097040</td>\n",
       "    </tr>\n",
       "    <tr>\n",
       "      <th>North America</th>\n",
       "      <td>99625662</td>\n",
       "      <td>94818163</td>\n",
       "      <td>95.174437</td>\n",
       "    </tr>\n",
       "    <tr>\n",
       "      <th>South America</th>\n",
       "      <td>57136485</td>\n",
       "      <td>51031313</td>\n",
       "      <td>89.314757</td>\n",
       "    </tr>\n",
       "    <tr>\n",
       "      <th>Africa</th>\n",
       "      <td>12042400</td>\n",
       "      <td>10137200</td>\n",
       "      <td>84.179233</td>\n",
       "    </tr>\n",
       "  </tbody>\n",
       "</table>\n",
       "</div>"
      ],
      "text/plain": [
       "               total_confirmed  total_recovered  recovered_percentage\n",
       "continent                                                            \n",
       "Europe               194330079        170861871             87.923533\n",
       "Asia                 149999659        126145273             84.097040\n",
       "North America         99625662         94818163             95.174437\n",
       "South America         57136485         51031313             89.314757\n",
       "Africa                12042400         10137200             84.179233"
      ]
     },
     "execution_count": 229,
     "metadata": {},
     "output_type": "execute_result"
    }
   ],
   "source": [
    "# calculating country based recovered percentage and Displaying the resulting DataFrame\n",
    "Country_values_confirmed_recovered[\"recovered_percentage\"] = (Country_values_confirmed_recovered[\"total_recovered\"] / Country_values_confirmed_recovered[\"total_confirmed\"]) * 100\n",
    "Country_values_confirmed_recovered\n"
   ]
  },
  {
   "cell_type": "markdown",
   "id": "8f4eb0d8",
   "metadata": {},
   "source": [
    "# 3. Which 20 countries have the highest new tests with regards to their population?"
   ]
  },
  {
   "cell_type": "markdown",
   "id": "f9288e28",
   "metadata": {},
   "source": [
    "To perform this analysis, we have selected specific columns from each dataset, including \"population\" and \"total_confirmed\" from df_summary, and \"daily_new_cases\" and \"date\" from df_daily. The datasets are merged based on the common key, and the resulting combined DataFrame, combined_df, is printed."
   ]
  },
  {
   "cell_type": "code",
   "execution_count": null,
   "id": "395923a7",
   "metadata": {},
   "outputs": [],
   "source": [
    "#Combining two datasets, using country as key column\n",
    "common_key = \"country\"\n",
    "\n",
    "#selecting population, country and total new tests from df_summary and df_daily\n",
    "df1_columns = [\"country\", \"population\",\"total_confirmed\" ]\n",
    "df2_columns = [\"country\", \"daily_new_cases\", \"date\"]\n"
   ]
  },
  {
   "cell_type": "code",
   "execution_count": null,
   "id": "d74e2e8b",
   "metadata": {},
   "outputs": [
    {
     "name": "stdout",
     "output_type": "stream",
     "text": [
      "            country  population  total_confirmed  daily_new_cases       date\n",
      "0       Afghanistan    40560636           179267                0  2020-2-15\n",
      "1       Afghanistan    40560636           179267                0  2020-2-16\n",
      "2       Afghanistan    40560636           179267                0  2020-2-17\n",
      "3       Afghanistan    40560636           179267                0  2020-2-18\n",
      "4       Afghanistan    40560636           179267                0  2020-2-19\n",
      "...             ...         ...              ...              ...        ...\n",
      "184782     Zimbabwe    15265849           249206              106  2022-5-10\n",
      "184783     Zimbabwe    15265849           249206              136  2022-5-11\n",
      "184784     Zimbabwe    15265849           249206              165  2022-5-12\n",
      "184785     Zimbabwe    15265849           249206              188  2022-5-13\n",
      "184786     Zimbabwe    15265849           249206               75  2022-5-14\n",
      "\n",
      "[184787 rows x 5 columns]\n"
     ]
    }
   ],
   "source": [
    "# Merge the datasets based on the common key\n",
    "combined_df = pd.merge(df_summary[df1_columns], df_daily[df2_columns], on=common_key)\n",
    "\n",
    "# Display the combined DataFrame\n",
    "print(combined_df)"
   ]
  },
  {
   "cell_type": "markdown",
   "id": "0c0c41d9",
   "metadata": {},
   "source": [
    "The dataframe combined_df is then sorted by the \"date\" column in descending order, renamed \"daily_new_cases\" column to \"Total_Daily_Cases\" using the rename() function to print top twenty countries with the highest daily new cases."
   ]
  },
  {
   "cell_type": "code",
   "execution_count": null,
   "id": "056102df",
   "metadata": {},
   "outputs": [
    {
     "name": "stdout",
     "output_type": "stream",
     "text": [
      "                       country  population  total_confirmed  \\\n",
      "184786                Zimbabwe    15265849           249206   \n",
      "54143                  Eritrea     3637828             9745   \n",
      "109903                 Moldova     4016504           516986   \n",
      "179866               Venezuela    28285909           522921   \n",
      "54963                  Estonia     1328196           573922   \n",
      "174946                 Ukraine    43244553          5006460   \n",
      "110723                  Monaco       39760            12004   \n",
      "23779        Brunei Darussalam      445281           144659   \n",
      "111543                Mongolia     3376601           469885   \n",
      "112363              Montenegro      628214           236277   \n",
      "113183              Montserrat        4998              747   \n",
      "22959   British Virgin Islands       30606             6573   \n",
      "114003                 Morocco    37725337          1165795   \n",
      "114823              Mozambique    32885526           225493   \n",
      "115643                 Myanmar    55089133           613140   \n",
      "22139                   Brazil   215373503         30682094   \n",
      "116463                 Namibia     2626590           160074   \n",
      "109083              Micronesia      117269                7   \n",
      "24599                 Bulgaria     6851060          1161504   \n",
      "108263                  Mexico   131455607          5745652   \n",
      "\n",
      "        Total_Daily_Cases       date  \n",
      "184786                 75  2022-5-14  \n",
      "54143                   0  2022-5-14  \n",
      "109903                  0  2022-5-14  \n",
      "179866                  0  2022-5-14  \n",
      "54963                   0  2022-5-14  \n",
      "174946                  0  2022-5-14  \n",
      "110723                  2  2022-5-14  \n",
      "23779                 275  2022-5-14  \n",
      "111543                  0  2022-5-14  \n",
      "112363                 59  2022-5-14  \n",
      "113183                  0  2022-5-14  \n",
      "22959                   0  2022-5-14  \n",
      "114003                 81  2022-5-14  \n",
      "114823                  8  2022-5-14  \n",
      "115643                 20  2022-5-14  \n",
      "22139               17355  2022-5-14  \n",
      "116463                199  2022-5-14  \n",
      "109083                  0  2022-5-14  \n",
      "24599                 153  2022-5-14  \n",
      "108263                  0  2022-5-14  \n"
     ]
    }
   ],
   "source": [
    "# Sort the DataFrame by daily_new_cases in descending order\n",
    "combined_df = combined_df.sort_values(\"date\", ascending=False)\n",
    "combined_df= combined_df.rename(columns={\"daily_new_cases\": \"Total_Daily_Cases\"})\n",
    "\n",
    "# Select the top 20 countries with the highest daily_new_cases\n",
    "top_20_countries = combined_df.head(20)\n",
    "\n",
    "# Display the top 20 countries\n",
    "print(top_20_countries)"
   ]
  },
  {
   "cell_type": "code",
   "execution_count": null,
   "id": "ec9a9480",
   "metadata": {},
   "outputs": [
    {
     "data": {
      "image/png": "[encoded data removed]",
      "text/plain": [
       "<Figure size 1080x432 with 1 Axes>"
      ]
     },
     "metadata": {
      "needs_background": "light"
     },
     "output_type": "display_data"
    }
   ],
   "source": [
    "# Set the figure size\n",
    "plt.figure(figsize=(15, 6))\n",
    "\n",
    "# Plot the bar chart using seaborn and set the colors\n",
    "sns.barplot(x=\"country\", y=\"Total_Daily_Cases\", data=top_20_countries, palette=colors)\n",
    "\n",
    "# Set the labels and title\n",
    "plt.xlabel(\"Country\")\n",
    "plt.ylabel(\"Total_Daily_Cases\")\n",
    "plt.title(\"Top 20 Countries with Highest Daily Cases\")\n",
    "\n",
    "# Rotate the x-axis labels for better readability\n",
    "plt.xticks(rotation=45)\n",
    "\n",
    "# Display the plot\n",
    "plt.show()"
   ]
  },
  {
   "cell_type": "markdown",
   "id": "02554b89",
   "metadata": {},
   "source": [
    "The analysis shows that some countries have many more daily COVID-19 cases than others. The chart helps us quickly see which countries have the most cases and findings depends on different dates, giving us an idea of how the pandemic is spreading worldwide. It's important to remember that the choice of these top 20 countries depends on the dataset and may change with different data or time periods. \n",
    "\n",
    "Overall, the visualization gives us an overview of the countries currently dealing with a higher number of daily cases, recovery cases, death cases and confirmed cases."
   ]
  }
 ],
 "metadata": {
  "kernelspec": {
   "display_name": "Python 3",
   "language": "python",
   "name": "python3"
  },
  "language_info": {
   "codemirror_mode": {
    "name": "ipython",
    "version": 3
   },
   "file_extension": ".py",
   "mimetype": "text/x-python",
   "name": "python",
   "nbconvert_exporter": "python",
   "pygments_lexer": "ipython3",
   "version": "3.8.0"
  }
 },
 "nbformat": 4,
 "nbformat_minor": 5
}
